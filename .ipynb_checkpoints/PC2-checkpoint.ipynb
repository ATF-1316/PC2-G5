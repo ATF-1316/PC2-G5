{
 "cells": [
  {
   "cell_type": "code",
   "execution_count": null,
   "id": "ffdbb659",
   "metadata": {},
   "outputs": [],
   "source": [
    "from selenium import webdriver\n",
    "import requests\n",
    "import pandas as pd\n",
    "import openpyxl\n",
    "import urllib.request, urllib.parse, urllib.error\n",
    "from bs4 import BeautifulSoup\n",
    "import re   "
   ]
  },
  {
   "cell_type": "code",
   "execution_count": null,
   "id": "219f4e5e",
   "metadata": {},
   "outputs": [],
   "source": [
    "archivo_vacio = pd.read_excel(\"CHGenesOrdenadosConVecinos.xlsx\",header=1)\n",
    "genes=list(archivo_vacio[\"Gen Abrev\"])"
   ]
  },
  {
   "cell_type": "code",
   "execution_count": null,
   "id": "466b230d",
   "metadata": {},
   "outputs": [],
   "source": [
    "driver = webdriver.Chrome(\"./chromedriver.exe\") "
   ]
  },
  {
   "cell_type": "code",
   "execution_count": null,
   "id": "68827ccd",
   "metadata": {},
   "outputs": [],
   "source": [
    "n=3 \n",
    "for i in genes:\n",
    "    print(n-2,\":\",i)\n",
    "    driver.get(f\"https://www.genecards.org/cgi-bin/carddisp.pl?gene={i}&keywords={i}\")\n",
    "    \n",
    "    genname = driver.find_elements_by_xpath('//span[@ class=\"aliasMainName\"]')\n",
    "    gen_category = driver.find_elements_by_xpath('//span[@class= \"gc-category\"]')\n",
    "    \n",
    "    name_list = []\n",
    "    for g in range (len(genname)):\n",
    "        name_list.append( genname[g].text)\n",
    "        print(name_list)\n",
    "    \n",
    "    \n",
    "    category_list = []\n",
    "    for c in range(len(gen_category)):\n",
    "        category_list.append(gen_category[c].text)\n",
    "        print(category_list)\n",
    "\n",
    "   \n",
    "    excel=openpyxl.load_workbook(\"CHGenesOrdenadosConVecinos.xlsx\")\n",
    "    sheet=excel['C1']\n",
    "    try:\n",
    "        sheet.cell(row=n,column=2).value = str(category_list[0])\n",
    "        sheet.cell(row=n,column=3).value = str( name_list[1])\n",
    "    \n",
    "    except:\n",
    "        sheet.cell(row=n,column=2).value = \" \"\n",
    "        sheet.cell(row=n,column=3).value = \" \"\n",
    "        \n",
    "    excel.save(\"CHGenesOrdenadosConVecinos.xlsx\")\n",
    "    n=n+1\n",
    "    "
   ]
  }
 ],
 "metadata": {
  "kernelspec": {
   "display_name": "Python 3",
   "language": "python",
   "name": "python3"
  },
  "language_info": {
   "codemirror_mode": {
    "name": "ipython",
    "version": 3
   },
   "file_extension": ".py",
   "mimetype": "text/x-python",
   "name": "python",
   "nbconvert_exporter": "python",
   "pygments_lexer": "ipython3",
   "version": "3.8.8"
  }
 },
 "nbformat": 4,
 "nbformat_minor": 5
}
