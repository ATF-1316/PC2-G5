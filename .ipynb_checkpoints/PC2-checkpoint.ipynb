{
 "cells": [
  {
   "cell_type": "markdown",
   "metadata": {},
   "source": [
    "## Aplicando Web scraping a la página Genecards\n",
    "\n",
    "### Presentado por:\n",
    "* Cordova Quispe, Brigitte Nayely \n",
    "* Campuzano Galarza, Sofia Gabriela \n",
    "* Tejada Flores, Antonella Franchesca \n",
    "\n",
    "### Objetivo\n",
    "Extraer información de la categoría, nombre del gen y los datos de las expresiones de \"Breast\"  de cada gen para posteriormente almacenarlos en un archivo excel ya predefinido por nuestra docente. \n",
    "\n",
    "### ¿La página tiene un API?\n",
    "Tras una intensa busqueda, realizada por el grupo, pudimos validar que no existe API alguno para esta página. Por lo que, obtamos por inspeccionar de manera manual el html de la página y luego con ayuda de los paquetes de Selenium y BeautifulSoup pudimos extraer la data solicitada en el archivo CHGenesOrdenadosConVecinos.xlsx.\n",
    "\n",
    "#### Nota:\n",
    "<span style=\"color:blue;\"> \n",
    "Se recomienda guardar los archivos en una misma carpeta, en especial el ejecutable de chrome con selenium o el navegador que haya usado para instalar Selenium.</span>"
   ]
  },
  {
   "cell_type": "code",
   "execution_count": null,
   "metadata": {},
   "outputs": [],
   "source": [
    "#Se importan los módulos\n",
    "\n",
    "from selenium import webdriver\n",
    "import requests #permite enviar solicitudes HTTP con mucha facilidad\n",
    "import pandas as pd\n",
    "import openpyxl\n",
    "import urllib.request, urllib.parse, urllib.error\n",
    "from bs4 import BeautifulSoup\n",
    "import re "
   ]
  },
  {
   "cell_type": "code",
   "execution_count": null,
   "metadata": {},
   "outputs": [],
   "source": [
    "archivo_vacio = pd.read_excel(\"CHGenesOrdenadosConVecinos.xlsx\",header=1) #Se lee el archivo excel \n",
    "genes=list(archivo_vacio[\"Gen Abrev\"]) #Del archivo excel se leerá la columna \"Gen Abrev\""
   ]
  },
  {
   "cell_type": "code",
   "execution_count": null,
   "metadata": {},
   "outputs": [],
   "source": [
    "#Se crea una variable en la cual se guarda el driver y se coloca el webdriver ya importado.\n",
    "#Dentro de los paréntesis se coloca la ubicación donde se encuentra el ejecutable\n",
    "driver = webdriver.Chrome(\"./chromedriver.exe\") "
   ]
  },
  {
   "cell_type": "code",
   "execution_count": null,
   "metadata": {},
   "outputs": [],
   "source": [
    "n=3 #Se coloca igual a 3 para que empiece desde la fila 3 a llenar los datos\n",
    "\n",
    "for i in genes: #Se crea un bucle en donde la variable \"i\" recorre cada gen que está almacenado en la variable genes\n",
    "    print(n-2,\":\",i) #Se imprime para verificar que se recorra cada gen de la columna \"Gen Abrev\"\n",
    "\n",
    "    #El método get nos permite ir a la página a scrapear\n",
    "    driver.get(f\"https://www.genecards.org/cgi-bin/carddisp.pl?gene={i}&keywords={i}\") \n",
    "    \n",
    "    #Devuelve una lista de elementos de la página web\n",
    "    #Se antepone el \"//\" para que haga la búsqueda. \n",
    "    #El resultado devuelve todos los elementos con el tag \"span\". Cuyo atributo class sea igual a \"aliasMainName\"\n",
    "    genname = driver.find_elements_by_xpath('//span[@ class=\"aliasMainName\"]') \n",
    "    \n",
    "    #El resultado devuelve todos los elementos con el tag \"span\". Cuyo atributo class sea igual a \"gc-category\"\n",
    "    gen_category = driver.find_elements_by_xpath('//span[@class= \"gc-category\"]')\n",
    "    \n",
    "    \n",
    "    name_list = [] #Se crea una lista vacía para que se almacenen los datos de \"genname\"\n",
    "    for g in range (len(genname)): #La variable \"g\" se itera en el intervalo de la longitud #genname\"\n",
    "        name_list.append( genname[g].text) #Modifica la lista original agregando el elemento al final de la lista \n",
    "        print(name_list) #Se imprime \n",
    "    \n",
    "    \n",
    "    category_list = [] #Se crea una lista vacía para que se almacenen los datos de \"gen_category\"\n",
    "    for c in range(len(gen_category)): #La variable \"c\" se itera en el intervalo de la longitud #gen_category\"\n",
    "        category_list.append(gen_category[c].text) #Modifica la lista original agregando el elemento al final de la lista \n",
    "        print(category_list) #Se imprime \n",
    "\n",
    "   \n",
    "    excel=openpyxl.load_workbook(\"CHGenesOrdenadosConVecinos.xlsx\") #Se abre el libro de trabajo del archivo excel\n",
    "    sheet=excel['C1'] #De la hoja C1\n",
    "    \n",
    "    #Se usa el try y except para que no haya problemas al encontrar datos vacíos\n",
    "    try: #Permite probar un bloque de código en busca de errores\n",
    "        sheet.cell(row=n,column=2).value = str(category_list[0]) #Se accede al valor de la celda de la fila n y columna 2\n",
    "        sheet.cell(row=n,column=3).value = str( name_list[1]) #Se accede al valor de la celda de la fila n y columna 3\n",
    "        #Se convierte a string, porque no se lee como lista\n",
    "    \n",
    "    \n",
    "    except: #Permite manejar el error\n",
    "        sheet.cell(row=n,column=2).value = \" \" #Se accede al valor de la celda de la fila n y columna 2\n",
    "        sheet.cell(row=n,column=3).value = \" \" #Se accede al valor de la celda de la fila n y columna 3\n",
    "        \n",
    "    excel.save(\"CHGenesOrdenadosConVecinos.xlsx\") #Se guarda en el archivo excel \n",
    "    n=n+1 #Se llenan los datos hasta n+1\n",
    "    \n",
    "    "
   ]
  },
  {
   "cell_type": "code",
   "execution_count": null,
   "metadata": {},
   "outputs": [],
   "source": [
    "lista_html =[] \n",
    "for i in genes: \n",
    "    print(i) \n",
    "    driver.get(f\"https://www.genecards.org/cgi-bin/carddisp.pl?gene={i}#expression\") \n",
    "\n",
    "    soup = BeautifulSoup(driver.page_source, features='html.parser') \n",
    "    lista_html.append(soup) \n",
    "\n",
    "driver.quit() "
   ]
  },
  {
   "cell_type": "code",
   "execution_count": null,
   "metadata": {},
   "outputs": [],
   "source": [
    "n=3 \n",
    "lista = [] \n",
    "for i in lista_html: \n",
    "    lista2 = [] \n",
    "    lista3=i.find_all(\"area\", {\"title\":re.compile('.*Breast.*')}) \n",
    "    \n",
    "    if len(lista3) != 0: \n",
    "        lista2.append(lista3[0][\"title\"].split(\",\")[0]+', '+lista3[3][\"title\"].split(\",\")[0]) \n",
    "        lista2.append(lista3[1][\"title\"].split(\",\")[0]) \n",
    "        lista2.append(lista3[2][\"title\"].split(\",\")[0])\n",
    "    \n",
    "    lista.append(lista2) \n",
    "    print(lista2) \n",
    "    \n",
    "    excel=openpyxl.load_workbook(\"CHGenesOrdenadosConVecinos.xlsx\") \n",
    "    sheet=excel['C1'] \n",
    "    \n",
    "    \n",
    "    try: \n",
    "        sheet.cell(row=n,column=6).value = str(lista2[0:1]) \n",
    "        sheet.cell(row=n,column=7).value = str(lista2[-2]) \n",
    "        sheet.cell(row=n,column=8).value = str(lista2[-1]) \n",
    "    \n",
    "    except: \n",
    "        sheet.cell(row=n,column=6).value = \" \"  \n",
    "        sheet.cell(row=n,column=7).value = \" \"  \n",
    "        sheet.cell(row=n,column=8).value = \" \"  \n",
    "        \n",
    "    excel.save(\"CHGenesOrdenadosConVecinos.xlsx\") \n",
    "    n=n+1 "
   ]
  }
 ],
 "metadata": {
  "kernelspec": {
   "display_name": "Python 3",
   "language": "python",
   "name": "python3"
  },
  "language_info": {
   "codemirror_mode": {
    "name": "ipython",
    "version": 3
   },
   "file_extension": ".py",
   "mimetype": "text/x-python",
   "name": "python",
   "nbconvert_exporter": "python",
   "pygments_lexer": "ipython3",
   "version": "3.7.3"
  }
 },
 "nbformat": 4,
 "nbformat_minor": 5
}
