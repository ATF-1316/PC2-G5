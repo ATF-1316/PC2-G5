{
 "cells": [
  {
   "cell_type": "code",
   "execution_count": null,
   "metadata": {},
   "outputs": [],
   "source": [
    "from selenium import webdriver\n",
    "import requests\n",
    "import pandas as pd\n",
    "import openpyxl\n",
    "import urllib.request, urllib.parse, urllib.error\n",
    "from bs4 import BeautifulSoup\n",
    "import re   "
   ]
  },
  {
   "cell_type": "code",
   "execution_count": null,
   "metadata": {},
   "outputs": [],
   "source": [
    "archivo_vacio = pd.read_excel(\"CHGenesOrdenadosConVecinos.xlsx\",header=1)\n",
    "genes=list(archivo_vacio[\"Gen Abrev\"])"
   ]
  },
  {
   "cell_type": "code",
   "execution_count": null,
   "metadata": {},
   "outputs": [],
   "source": [
    "driver = webdriver.Chrome(\"./chromedriver.exe\") "
   ]
  },
  {
   "cell_type": "code",
   "execution_count": null,
   "metadata": {},
   "outputs": [],
   "source": [
    "n=3 \n",
    "for i in genes:\n",
    "    print(n-2,\":\",i)\n",
    "    driver.get(f\"https://www.genecards.org/cgi-bin/carddisp.pl?gene={i}&keywords={i}\")\n",
    "    \n",
    "    genname = driver.find_elements_by_xpath('//span[@ class=\"aliasMainName\"]')\n",
    "    gen_category = driver.find_elements_by_xpath('//span[@class= \"gc-category\"]')\n",
    "    \n",
    "    name_list = []\n",
    "    for g in range (len(genname)):\n",
    "        name_list.append( genname[g].text)\n",
    "        print(name_list)\n",
    "    \n",
    "    \n",
    "    category_list = []\n",
    "    for c in range(len(gen_category)):\n",
    "        category_list.append(gen_category[c].text)\n",
    "        print(category_list)\n",
    "\n",
    "   \n",
    "    excel=openpyxl.load_workbook(\"CHGenesOrdenadosConVecinos.xlsx\")\n",
    "    sheet=excel['C1']\n",
    "    try:\n",
    "        sheet.cell(row=n,column=2).value = str(category_list[0])\n",
    "        sheet.cell(row=n,column=3).value = str( name_list[1])\n",
    "    \n",
    "    except:\n",
    "        sheet.cell(row=n,column=2).value = \" \"\n",
    "        sheet.cell(row=n,column=3).value = \" \"\n",
    "        \n",
    "    excel.save(\"CHGenesOrdenadosConVecinos.xlsx\")\n",
    "    n=n+1\n",
    "    "
   ]
  },
  {
   "cell_type": "code",
   "execution_count": null,
   "metadata": {},
   "outputs": [],
   "source": [
    "lista_html =[] \n",
    "for i in genes: \n",
    "    print(i) \n",
    "    driver.get(f\"https://www.genecards.org/cgi-bin/carddisp.pl?gene={i}#expression\") \n",
    "\n",
    "    soup = BeautifulSoup(driver.page_source, features='html.parser') \n",
    "    lista_html.append(soup) \n",
    "\n",
    "driver.quit() "
   ]
  },
  {
   "cell_type": "code",
   "execution_count": null,
   "metadata": {},
   "outputs": [],
   "source": [
    "n=3 \n",
    "lista = [] \n",
    "for i in lista_html: \n",
    "    lista2 = [] \n",
    "    lista3=i.find_all(\"area\", {\"title\":re.compile('.*Breast.*')}) \n",
    "    \n",
    "    if len(lista3) != 0: \n",
    "        lista2.append(lista3[0][\"title\"].split(\",\")[0]+', '+lista3[3][\"title\"].split(\",\")[0]) \n",
    "        lista2.append(lista3[1][\"title\"].split(\",\")[0]) \n",
    "        lista2.append(lista3[2][\"title\"].split(\",\")[0])\n",
    "    \n",
    "    lista.append(lista2) \n",
    "    print(lista2) \n",
    "    \n",
    "    excel=openpyxl.load_workbook(\"CHGenesOrdenadosConVecinos.xlsx\") \n",
    "    sheet=excel['C1'] \n",
    "    \n",
    "    \n",
    "    try: \n",
    "        sheet.cell(row=n,column=6).value = str(lista2[0:1]) \n",
    "        sheet.cell(row=n,column=7).value = str(lista2[-2]) \n",
    "        sheet.cell(row=n,column=8).value = str(lista2[-1]) \n",
    "    \n",
    "    except: \n",
    "        sheet.cell(row=n,column=6).value = \" \"  \n",
    "        sheet.cell(row=n,column=7).value = \" \"  \n",
    "        sheet.cell(row=n,column=8).value = \" \"  \n",
    "        \n",
    "    excel.save(\"CHGenesOrdenadosConVecinos.xlsx\") \n",
    "    n=n+1 "
   ]
  }
 ],
 "metadata": {
  "kernelspec": {
   "display_name": "Python 3",
   "language": "python",
   "name": "python3"
  },
  "language_info": {
   "codemirror_mode": {
    "name": "ipython",
    "version": 3
   },
   "file_extension": ".py",
   "mimetype": "text/x-python",
   "name": "python",
   "nbconvert_exporter": "python",
   "pygments_lexer": "ipython3",
   "version": "3.7.3"
  }
 },
 "nbformat": 4,
 "nbformat_minor": 5
}
