{
 "cells": [
  {
   "cell_type": "markdown",
   "id": "93128aff",
   "metadata": {},
   "source": [
    "## Aplicando Web scraping a la página Genecards\n",
    "\n",
    "### Presentado por:\n",
    "* Cordova Quispe, Brigitte Nayely \n",
    "* Campuzano Galarza, Sofia Gabriela \n",
    "* Tejada Flores, Antonella Franchesca \n",
    "\n",
    "### Objetivo\n",
    "Extraer información de la categoría, nombre del gen y los datos de las expresiones de \"Breast\"  de cada gen para posteriormente almacenarlos en un archivo excel ya predefinido por nuestra docente. \n",
    "\n",
    "### ¿La página tiene un API?\n",
    "Tras una intensa busqueda, realizada por el grupo, pudimos validar que no existe API alguno para esta página. Por lo que, obtamos por inspeccionar de manera manual el html de la página y luego con ayuda de los paquetes de Selenium y BeautifulSoup pudimos extraer la data solicitada en el archivo CHGenesOrdenadosConVecinos.xlsx.\n",
    "\n",
    "#### Nota:\n",
    "<span style=\"color:blue;\"> \n",
    "Se recomienda guardar los archivos en una misma carpeta, en especial el ejecutable de chrome con selenium o el navegador que haya usado para instalar Selenium.</span>"
   ]
  },
  {
   "cell_type": "code",
   "execution_count": null,
   "id": "c8c2c192",
   "metadata": {},
   "outputs": [],
   "source": [
    "#Se importan los módulos\n",
    "\n",
    "from selenium import webdriver\n",
    "import requests #permite enviar solicitudes HTTP con mucha facilidad\n",
    "import pandas as pd\n",
    "import openpyxl\n",
    "import urllib.request, urllib.parse, urllib.error\n",
    "from bs4 import BeautifulSoup\n",
    "import re "
   ]
  },
  {
   "cell_type": "code",
   "execution_count": null,
   "id": "9318b229",
   "metadata": {},
   "outputs": [],
   "source": [
    "archivo_vacio = pd.read_excel(\"CHGenesOrdenadosConVecinos.xlsx\",header=1) #Se lee el archivo excel \n",
    "genes=list(archivo_vacio[\"Gen Abrev\"]) #Del archivo excel se leerá la columna \"Gen Abrev\""
   ]
  },
  {
   "cell_type": "code",
   "execution_count": null,
   "id": "c52e57ec",
   "metadata": {},
   "outputs": [],
   "source": [
    "#Se crea una variable en la cual se guarda el driver y se coloca el webdriver ya importado.\n",
    "#Dentro de los paréntesis se coloca la ubicación donde se encuentra el ejecutable\n",
    "driver = webdriver.Chrome(\"./chromedriver.exe\") "
   ]
  },
  {
   "cell_type": "code",
   "execution_count": null,
   "id": "233d51bf",
   "metadata": {},
   "outputs": [],
   "source": [
    "n=3 #Se coloca igual a 3 para que empiece desde la fila 3 a llenar los datos\n",
    "\n",
    "for i in genes: #Se crea un bucle en donde la variable \"i\" recorre cada gen que está almacenado en la variable genes\n",
    "    print(n-2,\":\",i) #Se imprime para verificar que se recorra cada gen de la columna \"Gen Abrev\"\n",
    "\n",
    "    #El método get nos permite ir a la página a scrapear\n",
    "    driver.get(f\"https://www.genecards.org/cgi-bin/carddisp.pl?gene={i}&keywords={i}\") \n",
    "    \n",
    "    #Devuelve una lista de elementos de la página web\n",
    "    #Se antepone el \"//\" para que haga la búsqueda. \n",
    "    #El resultado devuelve todos los elementos con el tag \"span\". Cuyo atributo class sea igual a \"aliasMainName\"\n",
    "    genname = driver.find_elements_by_xpath('//span[@ class=\"aliasMainName\"]') \n",
    "    \n",
    "    #El resultado devuelve todos los elementos con el tag \"span\". Cuyo atributo class sea igual a \"gc-category\"\n",
    "    gen_category = driver.find_elements_by_xpath('//span[@class= \"gc-category\"]')\n",
    "    \n",
    "    \n",
    "    name_list = [] #Se crea una lista vacía para que se almacenen los datos de \"genname\"\n",
    "    for g in range (len(genname)): #La variable \"g\" se itera en el intervalo de la longitud #genname\"\n",
    "        name_list.append( genname[g].text) #Modifica la lista original agregando el elemento al final de la lista \n",
    "        print(name_list) #Se imprime \n",
    "    \n",
    "    \n",
    "    category_list = [] #Se crea una lista vacía para que se almacenen los datos de \"gen_category\"\n",
    "    for c in range(len(gen_category)): #La variable \"c\" se itera en el intervalo de la longitud #gen_category\"\n",
    "        category_list.append(gen_category[c].text) #Modifica la lista original agregando el elemento al final de la lista \n",
    "        print(category_list) #Se imprime \n",
    "\n",
    "   \n",
    "    excel=openpyxl.load_workbook(\"CHGenesOrdenadosConVecinos.xlsx\") #Se abre el libro de trabajo del archivo excel\n",
    "    sheet=excel['C1'] #De la hoja C1\n",
    "    \n",
    "    #Se usa el try y except para que no haya problemas al encontrar datos vacíos\n",
    "    try: #Permite probar un bloque de código en busca de errores\n",
    "        sheet.cell(row=n,column=2).value = str(category_list[0]) #Se accede al valor de la celda de la fila n y columna 2\n",
    "        sheet.cell(row=n,column=3).value = str( name_list[1]) #Se accede al valor de la celda de la fila n y columna 3\n",
    "        #Se convierte a string, porque no se lee como lista\n",
    "    \n",
    "    \n",
    "    except: #Permite manejar el error\n",
    "        sheet.cell(row=n,column=2).value = \" \" #Se accede al valor de la celda de la fila n y columna 2\n",
    "        sheet.cell(row=n,column=3).value = \" \" #Se accede al valor de la celda de la fila n y columna 3\n",
    "        \n",
    "    excel.save(\"CHGenesOrdenadosConVecinos.xlsx\") #Se guarda en el archivo excel \n",
    "    n=n+1 #Se llenan los datos hasta n+1\n",
    "    \n",
    "    "
   ]
  },
  {
   "cell_type": "code",
   "execution_count": null,
   "id": "4d99bdb6",
   "metadata": {},
   "outputs": [],
   "source": [
    "lista_html =[] #Se crea una lista vacía para que se almacenen los datos \n",
    "for i in genes: #Se crea un bucle en donde la variable \"i\" se itera en genes\n",
    "    print(i) #Se imprime la datos que se van obteniendo de la variable \"i\"\n",
    "    driver.get(f\"https://www.genecards.org/cgi-bin/carddisp.pl?gene={i}#expression\") #Permite ir a la página a scrapear\n",
    "    \n",
    "    #Se crea la conexión entre Beautiful soup y Selenium \n",
    "    soup = BeautifulSoup(driver.page_source, features='html.parser') #Pasa el parámetro \"html.parser\" al constructor Beautiful soup\n",
    "    lista_html.append(soup) #Se almacena \"soup\" en \"lista_html\" y los datos extraídos se van agregando al final de la lista\n",
    "\n",
    "driver.quit() #cierra todas las ventanas del navegador y finaliza la sesión del WebDriver"
   ]
  },
  {
   "cell_type": "code",
   "execution_count": null,
   "id": "7a708579",
   "metadata": {},
   "outputs": [],
   "source": [
    "n=3 #Llenará los datos desde la fila 3\n",
    "lista = [] # Almacena una fila de valores donde se va a adicionar otra matriz\n",
    "for i in lista_html: #Se crea un bucle en donde la variable \"i\" recorre cada gen que está almacenado en la variable lista_html\n",
    "    lista2 = [] #Almacena toda la información\n",
    "    \n",
    "    #Extrae la información de acuerdo a cada gen que está almacenado en  lista_html y busca la información que tiene la etiqueta \"area\" y \"title\"\n",
    "    #y por expresiones regulares se extrae la información especifica de Breast.\n",
    "    lista3=i.find_all(\"area\", {\"title\":re.compile('.*Breast.*')}) \n",
    "    \n",
    "    if len(lista3) != 0: #Si la longitud de la lista3 es diferente del vacio se realizará lo siguiente\n",
    "        \n",
    "        #Se agregará a la lista2 los datos recolectados por la lista3 con las siguientes sentencias \n",
    "        #El método split() divide una cadena en una lista y en este caso lo separa por \",\".\n",
    "        lista2.append(lista3[0][\"title\"].split(\",\")[0]+', '+lista3[3][\"title\"].split(\",\")[0]) #Usamos expresiones regulares para la búsqueda\n",
    "        lista2.append(lista3[1][\"title\"].split(\",\")[0]) # 2da columna\n",
    "        lista2.append(lista3[2][\"title\"].split(\",\")[0]) # 3ra columna\n",
    "    \n",
    "    lista.append(lista2) #La información almacenada por \"lista2\" se almacena en la lista general, \"lista\".\n",
    "    print(lista2) #Se imprime lista2\n",
    "    \n",
    "    excel=openpyxl.load_workbook(\"CHGenesOrdenadosConVecinos.xlsx\") #Se abre el libro de trabajo del archivo excel\n",
    "    sheet=excel['C1'] #De la hoja C1\n",
    "    \n",
    "    #Se usa el try y except para que no haya problemas al encontrar datos vacíos\n",
    "    try: #Permite probar un bloque de código en busca de errores\n",
    "        sheet.cell(row=n,column=6).value = str(lista2[0:1]) #Se accede al valor de la celda de la fila n y columna 6\n",
    "        sheet.cell(row=n,column=7).value = str(lista2[-2]) #Se accede al valor de la celda de la fila n y columna 7\n",
    "        sheet.cell(row=n,column=8).value = str(lista2[-1]) #Se accede al valor de la celda de la fila n y columna 8\n",
    "    \n",
    "    except: #Permite manejar el error\n",
    "        sheet.cell(row=n,column=6).value = \" \"  #Se accede al valor de la celda de la fila n y columna 6\n",
    "        sheet.cell(row=n,column=7).value = \" \"  #Se accede al valor de la celda de la fila n y columna 7\n",
    "        sheet.cell(row=n,column=8).value = \" \"  #Se accede al valor de la celda de la fila n y columna 8\n",
    "        \n",
    "    excel.save(\"CHGenesOrdenadosConVecinos.xlsx\") #Se guarda en el archivo excel \n",
    "    n=n+1 #Se llenan los datos hasta n+1\n"
   ]
  }
 ],
 "metadata": {
  "kernelspec": {
   "display_name": "Python 3",
   "language": "python",
   "name": "python3"
  },
  "language_info": {
   "codemirror_mode": {
    "name": "ipython",
    "version": 3
   },
   "file_extension": ".py",
   "mimetype": "text/x-python",
   "name": "python",
   "nbconvert_exporter": "python",
   "pygments_lexer": "ipython3",
   "version": "3.8.8"
  }
 },
 "nbformat": 4,
 "nbformat_minor": 5
}
